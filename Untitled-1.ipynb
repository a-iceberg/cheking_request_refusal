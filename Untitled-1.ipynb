{
 "cells": [
  {
   "cell_type": "code",
   "execution_count": null,
   "metadata": {},
   "outputs": [],
   "source": [
    "import psycopg\n",
    "\n",
    "DB_NAME = \"voice_ai\"\n",
    "DB_USER = \"vlad\"\n",
    "DB_PASSWORD = \"Vn00193396\"\n",
    "DB_HOST = \"10.2.4.87\"\n",
    "DB_PORT = \"5445\"\n",
    "\n",
    "query = \"\"\"\n",
    "WITH linked_calls AS (\n",
    "    SELECT DISTINCT\n",
    "           linkedid,\n",
    "           call_date\n",
    "    FROM calls\n",
    "    WHERE bid_id = %s\n",
    "),\n",
    "sorted_transcriptions AS (\n",
    "    SELECT \n",
    "        t.linkedid,\n",
    "        t.start,\n",
    "        t.text,\n",
    "        t.model,\n",
    "        lc.call_date\n",
    "    FROM transcribations t\n",
    "    JOIN linked_calls lc ON t.linkedid = lc.linkedid\n",
    "    WHERE t.text IS NOT NULL AND t.text <> ''\n",
    "    ORDER BY lc.call_date, t.linkedid, t.start\n",
    ")\n",
    "SELECT linkedid, text, model\n",
    "FROM sorted_transcriptions;\n",
    "\"\"\"\n",
    "conn = psycopg.connect(\n",
    "    dbname=DB_NAME,\n",
    "    user=DB_USER,\n",
    "    password=DB_PASSWORD,\n",
    "    host=DB_HOST,\n",
    "    port=DB_PORT\n",
    ")\n",
    "with conn.cursor() as cur:\n",
    "    cur.execute(query, ('Пл2277418',))\n",
    "    results = cur.fetchall()\n",
    "    modeltext=set()\n",
    "\n",
    "    conversations = {}\n",
    "    for linkedid, text, model in results:\n",
    "        if linkedid not in conversations:\n",
    "            conversations[linkedid] = []\n",
    "        conversations[linkedid].append(text)\n",
    "        modeltext.add('linkedid ='+str(linkedid)+' model= '+str(model)) \n",
    "\n",
    "    full_text = []\n",
    "    for linkedid, texts in conversations.items():\n",
    "        conversation_text = \". \".join(text.strip() for text in texts)\n",
    "        full_text.append(f\"Следующий диалог в разговоре: {conversation_text}\")\n",
    "\n",
    "    final_text = \"\\n\".join(full_text)\n",
    "\n",
    "print(modeltext)"
   ]
  },
  {
   "cell_type": "code",
   "execution_count": null,
   "metadata": {},
   "outputs": [],
   "source": [
    "ibr= lambda e : print(e)\n",
    "\n",
    "ibr('33424')"
   ]
  },
  {
   "cell_type": "code",
   "execution_count": null,
   "metadata": {},
   "outputs": [],
   "source": [
    "5**2"
   ]
  },
  {
   "cell_type": "markdown",
   "metadata": {},
   "source": []
  }
 ],
 "metadata": {
  "kernelspec": {
   "display_name": "Python 3",
   "language": "python",
   "name": "python3"
  },
  "language_info": {
   "codemirror_mode": {
    "name": "ipython",
    "version": 3
   },
   "file_extension": ".py",
   "mimetype": "text/x-python",
   "name": "python",
   "nbconvert_exporter": "python",
   "pygments_lexer": "ipython3",
   "version": "3.11.9"
  }
 },
 "nbformat": 4,
 "nbformat_minor": 2
}
